{
 "cells": [
  {
   "cell_type": "code",
   "execution_count": null,
   "id": "20931de0",
   "metadata": {},
   "outputs": [],
   "source": [
    "from pynq import Overlay\n",
    "\n",
    "# Initialize overlay\n",
    "ol = Overlay(\"../overlays/ethernet.bit\")"
   ]
  },
  {
   "cell_type": "code",
   "execution_count": 32,
   "id": "e7d5b3ac",
   "metadata": {},
   "outputs": [],
   "source": [
    "# Reference DMA and channels\n",
    "dma = ol.dma\n",
    "dma_send = ol.dma.sendchannel\n",
    "dma_recv = ol.dma.recvchannel"
   ]
  },
  {
   "cell_type": "code",
   "execution_count": 33,
   "id": "fe650fbb",
   "metadata": {},
   "outputs": [],
   "source": [
    "from pynq import allocate\n",
    "import numpy as np\n",
    "\n",
    "# Allocate input buffer data\n",
    "\n",
    "data_size = 1000\n",
    "input_buffer = allocate(shape=(data_size,), dtype=np.uint32)"
   ]
  },
  {
   "cell_type": "code",
   "execution_count": 34,
   "id": "34aed9b1",
   "metadata": {},
   "outputs": [
    {
     "ename": "OverflowError",
     "evalue": "Python int too large to convert to C long",
     "output_type": "error",
     "traceback": [
      "\u001b[0;31m---------------------------------------------------------------------------\u001b[0m",
      "\u001b[0;31mOverflowError\u001b[0m                             Traceback (most recent call last)",
      "Input \u001b[0;32mIn [34]\u001b[0m, in \u001b[0;36m<cell line: 2>\u001b[0;34m()\u001b[0m\n\u001b[1;32m      1\u001b[0m \u001b[38;5;66;03m# Fill input buffer data\u001b[39;00m\n\u001b[1;32m      2\u001b[0m \u001b[38;5;28;01mfor\u001b[39;00m i \u001b[38;5;129;01min\u001b[39;00m \u001b[38;5;28mrange\u001b[39m(data_size):\n\u001b[0;32m----> 3\u001b[0m     \u001b[43minput_buffer\u001b[49m\u001b[43m[\u001b[49m\u001b[43mi\u001b[49m\u001b[43m]\u001b[49m \u001b[38;5;241m=\u001b[39m i \u001b[38;5;241m+\u001b[39m \u001b[38;5;241m0xcafe000000000\u001b[39m\n\u001b[1;32m      5\u001b[0m \u001b[38;5;28;01mfor\u001b[39;00m i \u001b[38;5;129;01min\u001b[39;00m \u001b[38;5;28mrange\u001b[39m(\u001b[38;5;241m10\u001b[39m):\n\u001b[1;32m      6\u001b[0m     \u001b[38;5;28mprint\u001b[39m(\u001b[38;5;28mhex\u001b[39m(input_buffer[i]))\n",
      "\u001b[0;31mOverflowError\u001b[0m: Python int too large to convert to C long"
     ]
    }
   ],
   "source": [
    "# Fill input buffer data\n",
    "for i in range(data_size):\n",
    "    input_buffer[i] = i + 0xcafe0000\n",
    "    \n",
    "for i in range(10):\n",
    "    print(hex(input_buffer[i]))"
   ]
  },
  {
   "cell_type": "code",
   "execution_count": 26,
   "id": "d499cb18",
   "metadata": {},
   "outputs": [],
   "source": [
    "# Transfer input buffer data to the DMA using Main Memory 2 Stream\n",
    "dma_send.transfer(input_buffer)"
   ]
  },
  {
   "cell_type": "code",
   "execution_count": 27,
   "id": "0a4ac4f9",
   "metadata": {},
   "outputs": [
    {
     "name": "stdout",
     "output_type": "stream",
     "text": [
      "0x00\n",
      "0x00\n",
      "0x00\n",
      "0x00\n",
      "0x00\n",
      "0x00\n",
      "0x00\n",
      "0x00\n",
      "0x00\n",
      "0x00\n"
     ]
    }
   ],
   "source": [
    "# Initialize output buffer, verify empty\n",
    "output_buffer = allocate(shape=(data_size,), dtype=np.uint32)\n",
    "\n",
    "for i in range(10):\n",
    "    print('0x' + format(output_buffer[i], '02x'))"
   ]
  },
  {
   "cell_type": "code",
   "execution_count": 28,
   "id": "dfc4df14",
   "metadata": {},
   "outputs": [],
   "source": [
    "# Receive output buffer data using Stream 2 Main Memory\n",
    "dma_recv.transfer(output_buffer)"
   ]
  },
  {
   "cell_type": "code",
   "execution_count": 29,
   "id": "d55895d2",
   "metadata": {},
   "outputs": [
    {
     "name": "stdout",
     "output_type": "stream",
     "text": [
      "0xcafe0000\n",
      "0xcafe0001\n",
      "0xcafe0002\n",
      "0xcafe0003\n",
      "0xcafe0004\n",
      "0xcafe0005\n",
      "0xcafe0006\n",
      "0xcafe0007\n",
      "0xcafe0008\n",
      "0xcafe0009\n"
     ]
    }
   ],
   "source": [
    "# Verify the data is received\n",
    "for i in range(10):\n",
    "    print('0x' + format(output_buffer[i], '02x'))"
   ]
  },
  {
   "cell_type": "code",
   "execution_count": 30,
   "id": "9a6fb592",
   "metadata": {},
   "outputs": [
    {
     "name": "stdout",
     "output_type": "stream",
     "text": [
      "Arrays are equal: True\n"
     ]
    }
   ],
   "source": [
    "print(\"Arrays are equal: {}\".format(np.array_equal(input_buffer, output_buffer)))"
   ]
  }
 ],
 "metadata": {
  "kernelspec": {
   "display_name": "Python 3 (ipykernel)",
   "language": "python",
   "name": "python3"
  },
  "language_info": {
   "codemirror_mode": {
    "name": "ipython",
    "version": 3
   },
   "file_extension": ".py",
   "mimetype": "text/x-python",
   "name": "python",
   "nbconvert_exporter": "python",
   "pygments_lexer": "ipython3",
   "version": "3.10.4"
  }
 },
 "nbformat": 4,
 "nbformat_minor": 5
}
