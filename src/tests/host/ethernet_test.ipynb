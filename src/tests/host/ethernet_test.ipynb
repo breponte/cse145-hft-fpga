{
 "cells": [
  {
   "cell_type": "code",
   "execution_count": 1,
   "id": "06be0f81",
   "metadata": {},
   "outputs": [],
   "source": [
    "import socket\n",
    "import threading\n",
    "\n",
    "# Function to handle client connection\n",
    "def handle_client(client_socket):\n",
    "    try:\n",
    "        while True:\n",
    "            # Receive message from client\n",
    "            message = client_socket.recv(1024)\n",
    "            if not message:\n",
    "                break\n",
    "            print(f\"{message.decode('utf-8')}\")\n",
    "            \n",
    "            # Echo the message back to the client\n",
    "            client_socket.send(message)\n",
    "    except Exception as e:\n",
    "        print(f\"Error handling client: {e}\")\n",
    "    finally:\n",
    "        # Close the connection\n",
    "        client_socket.close()\n",
    "\n",
    "# Function to start the server\n",
    "def start_server(host, port):\n",
    "    server = socket.socket(socket.AF_INET, socket.SOCK_STREAM)\n",
    "    \n",
    "    # Enable reuse of the address/port\n",
    "    server.setsockopt(socket.SOL_SOCKET, socket.SO_REUSEADDR, 1)\n",
    "\n",
    "    server.bind((host, port))\n",
    "    server.listen(5)\n",
    "    print(f\"Server listening on {host}:{port}\")\n",
    "    \n",
    "    while True:\n",
    "        # Accept new connections\n",
    "        client_socket, client_address = server.accept()\n",
    "        print(f\"Connection from {client_address}\")\n",
    "        \n",
    "        # Start a new thread to handle the client\n",
    "        client_thread = threading.Thread(target=handle_client, args=(client_socket,))\n",
    "        client_thread.start()"
   ]
  },
  {
   "cell_type": "code",
   "execution_count": 2,
   "id": "bef2328f",
   "metadata": {
    "scrolled": true
   },
   "outputs": [
    {
     "name": "stdout",
     "output_type": "stream",
     "text": [
      "Server listening on 192.168.2.99:5000\n",
      "Connection from ('192.168.2.1', 65376)\n",
      "Hello, world\n",
      "Connection from ('192.168.2.1', 65384)\n",
      "Hello, world\n",
      "Connection from ('192.168.2.1', 65400)\n",
      "Hello, world\n",
      "Connection from ('192.168.2.1', 65386)\n",
      "Hello, world\n",
      "Connection from ('192.168.2.1', 65394)\n",
      "Hello, world\n",
      "Connection from ('192.168.2.1', 65402)\n",
      "Hello, world\n",
      "Connection from ('192.168.2.1', 65414)\n",
      "Hello, world\n",
      "Connection from ('192.168.2.1', 65408)\n",
      "Hello, world\n"
     ]
    },
    {
     "name": "stderr",
     "output_type": "stream",
     "text": [
      "\n",
      "KeyboardInterrupt\n",
      "\n"
     ]
    }
   ],
   "source": [
    "host = '192.168.2.99'\n",
    "port = 5000\n",
    "\n",
    "start_server(host, port)"
   ]
  }
 ],
 "metadata": {
  "kernelspec": {
   "display_name": "Python 3 (ipykernel)",
   "language": "python",
   "name": "python3"
  },
  "language_info": {
   "codemirror_mode": {
    "name": "ipython",
    "version": 3
   },
   "file_extension": ".py",
   "mimetype": "text/x-python",
   "name": "python",
   "nbconvert_exporter": "python",
   "pygments_lexer": "ipython3",
   "version": "3.10.4"
  }
 },
 "nbformat": 4,
 "nbformat_minor": 5
}
